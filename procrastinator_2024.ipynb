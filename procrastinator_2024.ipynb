{
 "cells": [
  {
   "cell_type": "code",
   "execution_count": null,
   "metadata": {},
   "outputs": [],
   "source": [
    "# pip install \"hopsworks[python]\"\n",
    "\n",
    "import hopsworks\n",
    "import pandas as pd\n",
    "import numpy as np\n",
    "import os\n",
    "\n",
    "from sklearn.ensemble import RandomForestRegressor\n",
    "from sklearn.metrics import mean_squared_error\n",
    "\n",
    "# Connect to Hopsworks\n",
    "project = hopsworks.login(host=\"PROJECTURL\",\n",
    "                          port=PROJECTPORT,\n",
    "                          api_key_value=\"KEY\")\n",
    "\n",
    "# Get the feature store\n",
    "fs = project.get_feature_store()"
   ]
  },
  {
   "cell_type": "code",
   "execution_count": null,
   "metadata": {},
   "outputs": [],
   "source": [
    "# 2. Generate the very important data\n",
    "def generate_data(n_samples=1000):\n",
    "    data = pd.DataFrame({\n",
    "        'procrastination_level': np.random.randint(1, 11, n_samples),    # 1-10 scale\n",
    "        'coffee_cups': np.random.randint(0, 8, n_samples),               # Number of coffee cups\n",
    "        'last_minute_panic': np.random.randint(0, 2, n_samples),         # 1 for True, 0 for False\n",
    "        'zodiac_sign': np.random.randint(1, 13, n_samples),              # Zodiac sign as integer (1-12)\n",
    "        'task_completion': np.random.randint(0, 101, n_samples)          # Task completion as integer (0-100%)\n",
    "    })\n",
    "    return data\n",
    "\n",
    "data = generate_data()"
   ]
  },
  {
   "cell_type": "code",
   "execution_count": null,
   "metadata": {},
   "outputs": [],
   "source": [
    "# 3. Create feature group\n",
    "fg = fs.get_or_create_feature_group(\n",
    "    name='procrastinator_integer',\n",
    "    version=1,\n",
    "    primary_key=['procrastination_level', 'coffee_cups', 'last_minute_panic', 'zodiac_sign'],\n",
    "    description='Features for predicting task completion based on procrastination',\n",
    "    online_enabled=False\n",
    ")\n",
    "fg.insert(data, wait=True)"
   ]
  },
  {
   "cell_type": "code",
   "execution_count": null,
   "metadata": {},
   "outputs": [],
   "source": [
    "# 4. Create a Feature view (mapping of the features for the model)\n",
    "fv = fs.get_or_create_feature_view(\n",
    "    name='procrastinator_integer_view2',\n",
    "    version=1,\n",
    "    description='Feature view for procrastination prediction',\n",
    "    query=fg.select_all(),\n",
    "    labels=['task_completion'],\n",
    ")"
   ]
  },
  {
   "cell_type": "code",
   "execution_count": null,
   "metadata": {},
   "outputs": [],
   "source": [
    "# 5. Get training data\n",
    "X_train, X_test, y_train, y_test = fv.train_test_split(test_size=0.2)"
   ]
  },
  {
   "cell_type": "code",
   "execution_count": null,
   "metadata": {},
   "outputs": [],
   "source": [
    "# 6. Train model\n",
    "model = RandomForestRegressor(n_estimators=100, random_state=42)\n",
    "model.fit(X_train, y_train)\n",
    "\n",
    "# 7. Evaluate model\n",
    "y_pred = model.predict(X_test)\n",
    "mse = mean_squared_error(y_test, y_pred)\n",
    "print(f\"Mean Squared Error: {mse}\")"
   ]
  },
  {
   "cell_type": "code",
   "execution_count": null,
   "metadata": {},
   "outputs": [],
   "source": [
    "import os\n",
    "from hsml.schema import Schema\n",
    "from hsml.model_schema import ModelSchema\n",
    "from joblib import dump\n",
    "\n",
    "input_schema = Schema(X_train)\n",
    "output_schema = Schema(y_train)\n",
    "model_schema = ModelSchema(input_schema=input_schema, output_schema=output_schema)\n",
    "\n",
    "# 8. Save model \n",
    "model_dir = \"procrastinator_integers_model2\"\n",
    "os.makedirs(model_dir, exist_ok=True)\n",
    "\n",
    "dump(model, os.path.join(model_dir, 'model.joblib'))\n",
    "\n",
    "mr = project.get_model_registry()\n",
    "procrastination_model = mr.sklearn.create_model(\n",
    "    name=\"procrastinator_integers_model2\",\n",
    "    metrics={\"mse\": mse},\n",
    "    model_schema=model_schema,\n",
    "    input_example=X_test.sample().to_numpy(),\n",
    "    description=\"Predicts task completion based on procrastination\"\n",
    ")\n",
    "procrastination_model.save(model_dir)\n"
   ]
  },
  {
   "cell_type": "code",
   "execution_count": null,
   "metadata": {},
   "outputs": [],
   "source": [
    "# 9. Create model serving endpoint\n",
    "ms = project.get_model_serving()\n",
    "deployment = procrastination_model.deploy(name=\"procrastinator40002k\")"
   ]
  },
  {
   "cell_type": "code",
   "execution_count": null,
   "metadata": {},
   "outputs": [],
   "source": [
    "deployment.start()"
   ]
  },
  {
   "cell_type": "code",
   "execution_count": null,
   "metadata": {},
   "outputs": [],
   "source": [
    "# 10 Try to predict something.\n",
    "input = {\n",
    "    \"instances\": [\n",
    "        [9,                     # procrastination_level\n",
    "         10,                     # coffee_cups\n",
    "         0,                     # last_minute_panic\n",
    "         1                      # zodiac_sign\n",
    "        ]  \n",
    "    ]   \n",
    "}\n",
    "\n",
    "# Make the prediction\n",
    "predictions = deployment.predict(input)\n",
    "prediction_value = predictions['predictions'][0]\n",
    "\n",
    "# Output the prediction result\n",
    "print(f\"Predicted task completion: {prediction_value:.2f}%\")\n"
   ]
  },
  {
   "cell_type": "code",
   "execution_count": null,
   "metadata": {},
   "outputs": [],
   "source": []
  }
 ],
 "metadata": {
  "kernelspec": {
   "display_name": "procrastinator",
   "language": "python",
   "name": "python3"
  },
  "language_info": {
   "codemirror_mode": {
    "name": "ipython",
    "version": 3
   },
   "file_extension": ".py",
   "mimetype": "text/x-python",
   "name": "python",
   "nbconvert_exporter": "python",
   "pygments_lexer": "ipython3",
   "version": "3.10.15"
  }
 },
 "nbformat": 4,
 "nbformat_minor": 2
}
