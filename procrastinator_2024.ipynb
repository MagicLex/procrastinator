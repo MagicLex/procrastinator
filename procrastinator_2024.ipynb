{
 "cells": [
  {
   "cell_type": "code",
   "execution_count": null,
   "metadata": {},
   "outputs": [],
   "source": [
    "# pip install \"hopsworks[python]\"\n",
    "\n",
    "import hopsworks\n",
    "import pandas as pd\n",
    "import numpy as np\n",
    "from sklearn.ensemble import RandomForestRegressor\n",
    "from sklearn.metrics import mean_squared_error\n",
    "\n",
    "from hopsworks.hsfs.builtin_transformations import label_encoder  # For transformations\n",
    "\n",
    "# Connect to Hopsworks\n",
    "project = hopsworks.login()\n",
    "fs = project.get_feature_store()\n"
   ]
  },
  {
   "cell_type": "code",
   "execution_count": null,
   "metadata": {},
   "outputs": [],
   "source": [
    "# Generate base data\n",
    "def generate_base_data(n_samples=1000):\n",
    "    return pd.DataFrame({\n",
    "        'user_id': range(n_samples),  # Common key\n",
    "        'procrastination_level': np.random.randint(1, 11, n_samples),\n",
    "        'coffee_cups': np.random.randint(0, 8, n_samples),\n",
    "        'task_completion': np.random.randint(0, 101, n_samples)\n",
    "    })\n",
    "\n",
    "# Generate additional features\n",
    "def generate_extra_data(n_samples=1000):\n",
    "    return pd.DataFrame({\n",
    "        'user_id': range(n_samples),  # Common key\n",
    "        'last_minute_panic': np.random.randint(0, 2, n_samples),\n",
    "        'zodiac_sign': np.random.choice(['Aries', 'Taurus', 'Gemini', 'Cancer'], n_samples)\n",
    "    })\n",
    "\n",
    "base_data = generate_base_data()\n",
    "extra_data = generate_extra_data()\n"
   ]
  },
  {
   "cell_type": "code",
   "execution_count": null,
   "metadata": {},
   "outputs": [],
   "source": [
    "# Create first feature group\n",
    "base_fg = fs.get_or_create_feature_group(\n",
    "    name='procrastinator_base',\n",
    "    version=1,\n",
    "    primary_key=['user_id'],\n",
    "    description='Base features for procrastination prediction',\n",
    "    online_enabled=True\n",
    ")\n",
    "base_fg.insert(base_data)\n",
    "\n",
    "# Create second feature group\n",
    "extra_fg = fs.get_or_create_feature_group(\n",
    "    name='procrastinator_extra',\n",
    "    version=1,\n",
    "    primary_key=['user_id'],\n",
    "    description='Additional procrastination features',\n",
    "    online_enabled=True\n",
    ")\n",
    "extra_fg.insert(extra_data)"
   ]
  },
  {
   "cell_type": "code",
   "execution_count": null,
   "metadata": {},
   "outputs": [],
   "source": [
    "# Create feature view joining both groups with transformation\n",
    "query = base_fg.select_all().join(\n",
    "    extra_fg.select_all(),\n",
    "    on=['user_id'],\n",
    "    prefix=\"extra_\"\n",
    ")\n",
    "\n",
    "# Define transformations\n",
    "transformation_functions = [\n",
    "    label_encoder('extra_zodiac_sign')  # Transform categorical zodiac sign\n",
    "]\n",
    "\n",
    "fv = fs.get_or_create_feature_view(\n",
    "    name='procrastinator_view',\n",
    "    version=1,\n",
    "    description='Combined view with transformations',\n",
    "    query=query,\n",
    "    labels=['task_completion'],\n",
    "    transformation_functions=transformation_functions\n",
    ")"
   ]
  },
  {
   "cell_type": "code",
   "execution_count": null,
   "metadata": {},
   "outputs": [],
   "source": [
    "# Get training data\n",
    "X_train, X_test, y_train, y_test = fv.train_test_split(test_size=0.2)"
   ]
  },
  {
   "cell_type": "code",
   "execution_count": null,
   "metadata": {},
   "outputs": [],
   "source": [
    "# 6. Train model\n",
    "model = RandomForestRegressor(n_estimators=100, random_state=42)\n",
    "model.fit(X_train, y_train)\n",
    "\n",
    "# 7. Evaluate model\n",
    "y_pred = model.predict(X_test)\n",
    "mse = mean_squared_error(y_test, y_pred)\n",
    "print(f\"Mean Squared Error: {mse}\")"
   ]
  },
  {
   "cell_type": "code",
   "execution_count": null,
   "metadata": {},
   "outputs": [],
   "source": [
    "import os\n",
    "from hsml.schema import Schema\n",
    "from hsml.model_schema import ModelSchema\n",
    "from joblib import dump\n",
    "\n",
    "input_schema = Schema(X_train)\n",
    "output_schema = Schema(y_train)\n",
    "model_schema = ModelSchema(input_schema=input_schema, output_schema=output_schema)\n",
    "\n",
    "# 8. Save model \n",
    "model_dir = \"procrastinator_model\"\n",
    "os.makedirs(model_dir, exist_ok=True)\n",
    "\n",
    "dump(model, os.path.join(model_dir, 'model.joblib'))\n",
    "\n",
    "mr = project.get_model_registry()\n",
    "procrastination_model = mr.sklearn.create_model(\n",
    "    name=\"procrastinator_model\",\n",
    "    metrics={\"mse\": mse},\n",
    "    model_schema=model_schema,\n",
    "    input_example=X_test.sample().to_numpy(),\n",
    "    description=\"Predicts task completion based on procrastination\"\n",
    ")\n",
    "procrastination_model.save(model_dir)\n"
   ]
  },
  {
   "cell_type": "code",
   "execution_count": null,
   "metadata": {},
   "outputs": [],
   "source": [
    "# 9. Create model serving endpoint\n",
    "ms = project.get_model_serving()\n",
    "deployment = procrastination_model.deploy(name=\"procrastinator2025\")"
   ]
  },
  {
   "cell_type": "code",
   "execution_count": null,
   "metadata": {},
   "outputs": [],
   "source": [
    "deployment.start()"
   ]
  },
  {
   "cell_type": "code",
   "execution_count": null,
   "metadata": {},
   "outputs": [],
   "source": [
    "# 10 Try to predict something.\n",
    "input = {\n",
    "    \"instances\": [\n",
    "        [9,                     # procrastination_level\n",
    "         10,                     # coffee_cups\n",
    "         0,                     # last_minute_panic\n",
    "         1                      # zodiac_sign\n",
    "        ]  \n",
    "                ]   \n",
    "}\n",
    "\n",
    "# Make the prediction\n",
    "predictions = deployment.predict(input)\n",
    "prediction_value = predictions['predictions'][0]\n",
    "\n",
    "# Output the prediction result\n",
    "print(f\"Predicted task completion: {prediction_value:.2f}%\")\n"
   ]
  },
  {
   "cell_type": "code",
   "execution_count": null,
   "metadata": {},
   "outputs": [],
   "source": []
  }
 ],
 "metadata": {
  "kernelspec": {
   "display_name": "procrastinator",
   "language": "python",
   "name": "python3"
  },
  "language_info": {
   "codemirror_mode": {
    "name": "ipython",
    "version": 3
   },
   "file_extension": ".py",
   "mimetype": "text/x-python",
   "name": "python",
   "nbconvert_exporter": "python",
   "pygments_lexer": "ipython3",
   "version": "3.10.15"
  }
 },
 "nbformat": 4,
 "nbformat_minor": 2
}
