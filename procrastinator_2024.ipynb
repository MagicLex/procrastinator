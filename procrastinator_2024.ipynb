{
 "cells": [
  {
   "cell_type": "code",
   "execution_count": null,
   "metadata": {},
   "outputs": [
    {
     "name": "stdout",
     "output_type": "stream",
     "text": [
      "2024-11-27 22:04:12,550 INFO: Initializing external client\n",
      "2024-11-27 22:04:12,550 INFO: Base URL: https://15.235.46.114:28181\n",
      "2024-11-27 22:04:14,777 INFO: Python Engine initialized.\n",
      "\n",
      "Logged in to project, explore it here https://15.235.46.114:28181/p/119\n"
     ]
    }
   ],
   "source": [
    "# pip install hopsworks[python]\n",
    "\n",
    "import hopsworks\n",
    "import pandas as pd\n",
    "import numpy as np\n",
    "import os\n",
    "\n",
    "from sklearn.ensemble import RandomForestRegressor\n",
    "from sklearn.metrics import mean_squared_error\n",
    "\n",
    "# Connect to Hopsworks\n",
    "project = hopsworks.login(host=\"PROJECTURL\",\n",
    "                          port=PROJECTPORT,\n",
    "                          api_key_value=\"YOUKEY\")\n",
    "\n",
    "# Get the feature store\n",
    "fs = project.get_feature_store()"
   ]
  },
  {
   "cell_type": "code",
   "execution_count": null,
   "metadata": {},
   "outputs": [
    {
     "name": "stdout",
     "output_type": "stream",
     "text": [
      "     procrastination_level  coffee_cups  last_minute_panic  zodiac_sign  \\\n",
      "0                        1            7                  0            3   \n",
      "1                        3            2                  1            4   \n",
      "2                       10            3                  0            2   \n",
      "3                        7            3                  0            1   \n",
      "4                        3            3                  1           11   \n",
      "..                     ...          ...                ...          ...   \n",
      "995                      3            7                  0            6   \n",
      "996                      9            6                  0           11   \n",
      "997                      1            1                  1            4   \n",
      "998                      7            7                  0            8   \n",
      "999                      2            4                  1            3   \n",
      "\n",
      "     task_completion  \n",
      "0                 74  \n",
      "1                 46  \n",
      "2                 62  \n",
      "3                 84  \n",
      "4                 65  \n",
      "..               ...  \n",
      "995               73  \n",
      "996               42  \n",
      "997               46  \n",
      "998               55  \n",
      "999               31  \n",
      "\n",
      "[1000 rows x 5 columns]\n"
     ]
    }
   ],
   "source": [
    "# 2. Generate the very important data\n",
    "def generate_data(n_samples=1000):\n",
    "    data = pd.DataFrame({\n",
    "        'procrastination_level': np.random.randint(1, 11, n_samples),    # 1-10 scale\n",
    "        'coffee_cups': np.random.randint(0, 8, n_samples),               # Number of coffee cups\n",
    "        'last_minute_panic': np.random.randint(0, 2, n_samples),         # 1 for True, 0 for False\n",
    "        'zodiac_sign': np.random.randint(1, 13, n_samples),              # Zodiac sign as integer (1-12)\n",
    "        'task_completion': np.random.randint(0, 101, n_samples)          # Task completion as integer (0-100%)\n",
    "    })\n",
    "    return data\n",
    "\n",
    "data = generate_data()"
   ]
  },
  {
   "cell_type": "code",
   "execution_count": 3,
   "metadata": {},
   "outputs": [
    {
     "name": "stderr",
     "output_type": "stream",
     "text": [
      "Uploading Dataframe: 100.00% |██████████| Rows 1000/1000 | Elapsed Time: 00:01 | Remaining Time: 00:00\n"
     ]
    },
    {
     "name": "stdout",
     "output_type": "stream",
     "text": [
      "Launching job: procrastinator_integer_1_offline_fg_materialization\n",
      "Job started successfully, you can follow the progress at \n",
      "https://15.235.46.114:28181/p/119/jobs/named/procrastinator_integer_1_offline_fg_materialization/executions\n",
      "2024-11-27 22:04:36,852 INFO: Waiting for execution to finish. Current state: INITIALIZING. Final status: UNDEFINED\n",
      "2024-11-27 22:04:40,010 INFO: Waiting for execution to finish. Current state: RUNNING. Final status: UNDEFINED\n"
     ]
    },
    {
     "name": "stderr",
     "output_type": "stream",
     "text": [
      "%6|1732741516.956|FAIL|rdkafka#producer-1| [thrd:ssl://15.235.47.52:9093/bootstrap]: ssl://15.235.47.52:9093/0: Disconnected (after 54059ms in state UP)\n",
      "%6|1732741568.047|FAIL|rdkafka#producer-1| [thrd:ssl://15.235.47.52:9093/bootstrap]: ssl://15.235.47.52:9093/0: Disconnected (after 50001ms in state UP, 1 identical error(s) suppressed)\n"
     ]
    },
    {
     "name": "stdout",
     "output_type": "stream",
     "text": [
      "2024-11-27 22:06:17,689 INFO: Waiting for execution to finish. Current state: AGGREGATING_LOGS. Final status: SUCCEEDED\n",
      "2024-11-27 22:06:17,819 INFO: Waiting for log aggregation to finish.\n",
      "2024-11-27 22:06:26,592 INFO: Execution finished successfully.\n"
     ]
    },
    {
     "data": {
      "text/plain": [
       "(Job('procrastinator_integer_1_offline_fg_materialization', 'SPARK'), None)"
      ]
     },
     "execution_count": 3,
     "metadata": {},
     "output_type": "execute_result"
    }
   ],
   "source": [
    "# 3. Create feature group\n",
    "fg = fs.get_or_create_feature_group(\n",
    "    name='procrastinator_integer',\n",
    "    version=1,\n",
    "    primary_key=['procrastination_level', 'coffee_cups', 'last_minute_panic', 'zodiac_sign'],\n",
    "    description='Features for predicting task completion based on procrastination',\n",
    "    online_enabled=False\n",
    ")\n",
    "fg.insert(data, wait=True)"
   ]
  },
  {
   "cell_type": "code",
   "execution_count": 4,
   "metadata": {},
   "outputs": [
    {
     "name": "stdout",
     "output_type": "stream",
     "text": [
      "Feature view created successfully, explore it at \n",
      "https://15.235.46.114:28181/p/119/fs/67/fv/procrastinator_integer_view2/version/1\n"
     ]
    }
   ],
   "source": [
    "# 4. Create a Feature view (mapping of the features for the model)\n",
    "fv = fs.get_or_create_feature_view(\n",
    "    name='procrastinator_integer_view2',\n",
    "    version=1,\n",
    "    description='Feature view for procrastination prediction',\n",
    "    query=fg.select_all(),\n",
    "    labels=['task_completion'],\n",
    ")"
   ]
  },
  {
   "cell_type": "code",
   "execution_count": 5,
   "metadata": {},
   "outputs": [
    {
     "name": "stdout",
     "output_type": "stream",
     "text": [
      "Finished: Reading data from Hopsworks, using Hopsworks Feature Query Service (0.53s) \n",
      "2024-11-27 22:06:59,995 WARNING: VersionWarning: Incremented version to `1`.\n",
      "\n"
     ]
    }
   ],
   "source": [
    "# 5. Get training data\n",
    "X_train, X_test, y_train, y_test = fv.train_test_split(test_size=0.2)"
   ]
  },
  {
   "cell_type": "code",
   "execution_count": 6,
   "metadata": {},
   "outputs": [
    {
     "name": "stdout",
     "output_type": "stream",
     "text": [
      "2024-11-27 22:07:00,003 WARNING: DataConversionWarning: A column-vector y was passed when a 1d array was expected. Please change the shape of y to (n_samples,), for example using ravel().\n",
      "\n",
      "Mean Squared Error: 1057.4717509677419\n"
     ]
    }
   ],
   "source": [
    "# 6. Train model\n",
    "model = RandomForestRegressor(n_estimators=100, random_state=42)\n",
    "model.fit(X_train, y_train)\n",
    "\n",
    "# 7. Evaluate model\n",
    "y_pred = model.predict(X_test)\n",
    "mse = mean_squared_error(y_test, y_pred)\n",
    "print(f\"Mean Squared Error: {mse}\")"
   ]
  },
  {
   "cell_type": "code",
   "execution_count": 7,
   "metadata": {},
   "outputs": [
    {
     "data": {
      "application/vnd.jupyter.widget-view+json": {
       "model_id": "b3d9a6771286493e95a4c46c3bb8f1c6",
       "version_major": 2,
       "version_minor": 0
      },
      "text/plain": [
       "  0%|          | 0/6 [00:00<?, ?it/s]"
      ]
     },
     "metadata": {},
     "output_type": "display_data"
    },
    {
     "data": {
      "application/vnd.jupyter.widget-view+json": {
       "model_id": "5524dc29fb734ecf96628b035d79531d",
       "version_major": 2,
       "version_minor": 0
      },
      "text/plain": [
       "Uploading: 0.000%|          | 0/5610753 elapsed<00:00 remaining<?"
      ]
     },
     "metadata": {},
     "output_type": "display_data"
    },
    {
     "data": {
      "application/vnd.jupyter.widget-view+json": {
       "model_id": "58320c671e2542fd995193faf72e191e",
       "version_major": 2,
       "version_minor": 0
      },
      "text/plain": [
       "Uploading: 0.000%|          | 0/14 elapsed<00:00 remaining<?"
      ]
     },
     "metadata": {},
     "output_type": "display_data"
    },
    {
     "data": {
      "application/vnd.jupyter.widget-view+json": {
       "model_id": "07e9ed62d9aa4558894405849be7d640",
       "version_major": 2,
       "version_minor": 0
      },
      "text/plain": [
       "Uploading: 0.000%|          | 0/493 elapsed<00:00 remaining<?"
      ]
     },
     "metadata": {},
     "output_type": "display_data"
    },
    {
     "name": "stdout",
     "output_type": "stream",
     "text": [
      "Model created, explore it at https://15.235.46.114:28181/p/119/models/procrastinator_integers_model2/1\n"
     ]
    },
    {
     "data": {
      "text/plain": [
       "Model(name: 'procrastinator_integers_model2', version: 1)"
      ]
     },
     "execution_count": 7,
     "metadata": {},
     "output_type": "execute_result"
    }
   ],
   "source": [
    "import os\n",
    "from hsml.schema import Schema\n",
    "from hsml.model_schema import ModelSchema\n",
    "from joblib import dump\n",
    "\n",
    "input_schema = Schema(X_train)\n",
    "output_schema = Schema(y_train)\n",
    "model_schema = ModelSchema(input_schema=input_schema, output_schema=output_schema)\n",
    "\n",
    "# 8. Save model \n",
    "model_dir = \"procrastinator_integers_model2\"\n",
    "os.makedirs(model_dir, exist_ok=True)\n",
    "\n",
    "dump(model, os.path.join(model_dir, 'model.joblib'))\n",
    "\n",
    "mr = project.get_model_registry()\n",
    "procrastination_model = mr.sklearn.create_model(\n",
    "    name=\"procrastinator_integers_model2\",\n",
    "    metrics={\"mse\": mse},\n",
    "    model_schema=model_schema,\n",
    "    input_example=X_test.sample().to_numpy(),\n",
    "    description=\"Predicts task completion based on procrastination\"\n",
    ")\n",
    "procrastination_model.save(model_dir)\n"
   ]
  },
  {
   "cell_type": "code",
   "execution_count": 8,
   "metadata": {},
   "outputs": [
    {
     "name": "stdout",
     "output_type": "stream",
     "text": [
      "Deployment created, explore it at https://15.235.46.114:28181/p/119/deployments/1\n",
      "Before making predictions, start the deployment by using `.start()`\n"
     ]
    }
   ],
   "source": [
    "# 9. Create model serving endpoint\n",
    "ms = project.get_model_serving()\n",
    "deployment = procrastination_model.deploy(name=\"procrastinator40002k\")"
   ]
  },
  {
   "cell_type": "code",
   "execution_count": 9,
   "metadata": {},
   "outputs": [
    {
     "data": {
      "application/vnd.jupyter.widget-view+json": {
       "model_id": "3bd18a9d7a3a405abcad9f46c22cebd9",
       "version_major": 2,
       "version_minor": 0
      },
      "text/plain": [
       "  0%|          | 0/5 [00:00<?, ?it/s]"
      ]
     },
     "metadata": {},
     "output_type": "display_data"
    },
    {
     "name": "stdout",
     "output_type": "stream",
     "text": [
      "Start making predictions by using `.predict()`\n"
     ]
    }
   ],
   "source": [
    "deployment.start()"
   ]
  },
  {
   "cell_type": "code",
   "execution_count": 11,
   "metadata": {},
   "outputs": [
    {
     "name": "stdout",
     "output_type": "stream",
     "text": [
      "Predicted task completion: 56.28%\n"
     ]
    }
   ],
   "source": [
    "# 10 Try to predict something.\n",
    "input = {\n",
    "    \"instances\": [\n",
    "        [9,                     # procrastination_level\n",
    "         10,                     # coffee_cups\n",
    "         0,                     # last_minute_panic\n",
    "         1                      # zodiac_sign\n",
    "        ]  \n",
    "    ]   \n",
    "}\n",
    "\n",
    "# Make the prediction\n",
    "predictions = deployment.predict(input)\n",
    "prediction_value = predictions['predictions'][0]\n",
    "\n",
    "# Output the prediction result\n",
    "print(f\"Predicted task completion: {prediction_value:.2f}%\")\n"
   ]
  },
  {
   "cell_type": "code",
   "execution_count": null,
   "metadata": {},
   "outputs": [],
   "source": []
  }
 ],
 "metadata": {
  "kernelspec": {
   "display_name": "procrastinator",
   "language": "python",
   "name": "python3"
  },
  "language_info": {
   "codemirror_mode": {
    "name": "ipython",
    "version": 3
   },
   "file_extension": ".py",
   "mimetype": "text/x-python",
   "name": "python",
   "nbconvert_exporter": "python",
   "pygments_lexer": "ipython3",
   "version": "3.10.15"
  }
 },
 "nbformat": 4,
 "nbformat_minor": 2
}
